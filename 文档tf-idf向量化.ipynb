{
 "cells": [
  {
   "cell_type": "code",
   "execution_count": 1,
   "metadata": {},
   "outputs": [],
   "source": [
    "import editdistance"
   ]
  },
  {
   "cell_type": "code",
   "execution_count": 2,
   "metadata": {},
   "outputs": [],
   "source": [
    "import jieba"
   ]
  },
  {
   "cell_type": "code",
   "execution_count": 3,
   "metadata": {},
   "outputs": [],
   "source": [
    "def cut(string):return list(jieba.cut(string))"
   ]
  },
  {
   "cell_type": "code",
   "execution_count": 4,
   "metadata": {},
   "outputs": [],
   "source": [
    "string1='今天中午吃面'"
   ]
  },
  {
   "cell_type": "code",
   "execution_count": 7,
   "metadata": {},
   "outputs": [
    {
     "name": "stderr",
     "output_type": "stream",
     "text": [
      "Building prefix dict from the default dictionary ...\n",
      "Loading model from cache C:\\Users\\Triby\\AppData\\Local\\Temp\\jieba.cache\n",
      "Loading model cost 0.838 seconds.\n",
      "Prefix dict has been built succesfully.\n"
     ]
    },
    {
     "data": {
      "text/plain": [
       "['今天', '中午', '吃面']"
      ]
     },
     "execution_count": 7,
     "metadata": {},
     "output_type": "execute_result"
    }
   ],
   "source": [
    "cut(string1)"
   ]
  },
  {
   "cell_type": "code",
   "execution_count": 8,
   "metadata": {},
   "outputs": [],
   "source": [
    "string2='今天中午吃肉'"
   ]
  },
  {
   "cell_type": "code",
   "execution_count": 9,
   "metadata": {},
   "outputs": [
    {
     "data": {
      "text/plain": [
       "['今天', '中午', '吃', '肉']"
      ]
     },
     "execution_count": 9,
     "metadata": {},
     "output_type": "execute_result"
    }
   ],
   "source": [
    "cut(string2)"
   ]
  },
  {
   "cell_type": "code",
   "execution_count": 10,
   "metadata": {},
   "outputs": [
    {
     "data": {
      "text/plain": [
       "2"
      ]
     },
     "execution_count": 10,
     "metadata": {},
     "output_type": "execute_result"
    }
   ],
   "source": [
    "editdistance.eval(cut(string1),cut(string2))"
   ]
  },
  {
   "cell_type": "code",
   "execution_count": 12,
   "metadata": {},
   "outputs": [],
   "source": [
    "def get_edit_distance(str1,str2):return editdistance.eval(cut(string1),cut(string2))"
   ]
  },
  {
   "cell_type": "code",
   "execution_count": 13,
   "metadata": {},
   "outputs": [],
   "source": [
    "string3='她很漂亮美丽'"
   ]
  },
  {
   "cell_type": "code",
   "execution_count": 14,
   "metadata": {},
   "outputs": [],
   "source": [
    "string4='她美若天仙'"
   ]
  },
  {
   "cell_type": "code",
   "execution_count": 15,
   "metadata": {},
   "outputs": [],
   "source": [
    "string5='她很不漂亮不美丽'"
   ]
  },
  {
   "cell_type": "code",
   "execution_count": 16,
   "metadata": {},
   "outputs": [
    {
     "data": {
      "text/plain": [
       "2"
      ]
     },
     "execution_count": 16,
     "metadata": {},
     "output_type": "execute_result"
    }
   ],
   "source": [
    "get_edit_distance(string3,string4)"
   ]
  },
  {
   "cell_type": "code",
   "execution_count": 17,
   "metadata": {},
   "outputs": [
    {
     "data": {
      "text/plain": [
       "2"
      ]
     },
     "execution_count": 17,
     "metadata": {},
     "output_type": "execute_result"
    }
   ],
   "source": [
    "get_edit_distance(string3,string5)"
   ]
  },
  {
   "cell_type": "code",
   "execution_count": 19,
   "metadata": {},
   "outputs": [
    {
     "data": {
      "text/plain": [
       "2"
      ]
     },
     "execution_count": 19,
     "metadata": {},
     "output_type": "execute_result"
    }
   ],
   "source": [
    "get_edit_distance(string4,string5)"
   ]
  },
  {
   "cell_type": "markdown",
   "metadata": {},
   "source": [
    "##Tfidf"
   ]
  },
  {
   "cell_type": "code",
   "execution_count": 20,
   "metadata": {},
   "outputs": [],
   "source": [
    "import pandas as pd"
   ]
  },
  {
   "cell_type": "code",
   "execution_count": 25,
   "metadata": {},
   "outputs": [],
   "source": [
    "content=pd.read_csv(r'C:\\Users\\Triby\\Desktop\\export_sql_1558435\\sqlResult_1558435.csv',encoding='gb18030')"
   ]
  },
  {
   "cell_type": "code",
   "execution_count": 26,
   "metadata": {},
   "outputs": [
    {
     "data": {
      "text/plain": [
       "89611"
      ]
     },
     "execution_count": 26,
     "metadata": {},
     "output_type": "execute_result"
    }
   ],
   "source": [
    "len(content)"
   ]
  },
  {
   "cell_type": "code",
   "execution_count": 27,
   "metadata": {},
   "outputs": [
    {
     "data": {
      "text/plain": [
       "Index(['id', 'author', 'source', 'content', 'feature', 'title', 'url'], dtype='object')"
      ]
     },
     "execution_count": 27,
     "metadata": {},
     "output_type": "execute_result"
    }
   ],
   "source": [
    "content.columns"
   ]
  },
  {
   "cell_type": "code",
   "execution_count": 29,
   "metadata": {},
   "outputs": [
    {
     "data": {
      "text/plain": [
       "'此外，自本周（6月12日）起，除小米手机6等15款机型外，其余机型已暂停更新发布（含开发版/体验版内测，稳定版暂不受影响），以确保工程师可以集中全部精力进行系统优化工作。有人猜测这也是将精力主要用到MIUI 9的研发之中。\\r\\nMIUI 8去年5月发布，距今已有一年有余，也是时候更新换代了。\\r\\n当然，关于MIUI 9的确切信息，我们还是等待官方消息。\\r\\n'"
      ]
     },
     "execution_count": 29,
     "metadata": {},
     "output_type": "execute_result"
    }
   ],
   "source": [
    "content.ix[0].content"
   ]
  },
  {
   "cell_type": "code",
   "execution_count": 30,
   "metadata": {},
   "outputs": [],
   "source": [
    "from collections import Counter"
   ]
  },
  {
   "cell_type": "code",
   "execution_count": 62,
   "metadata": {},
   "outputs": [],
   "source": [
    "def term_frequency(word,i):\n",
    "    words=cut(content.ix[i].content)\n",
    "    words_counts=Counter(words)\n",
    "    return words_counts[word]/sum(words_counts.values())"
   ]
  },
  {
   "cell_type": "code",
   "execution_count": 65,
   "metadata": {},
   "outputs": [
    {
     "data": {
      "text/plain": [
       "Counter({'\\r\\n': 3,\n",
       "         ' ': 3,\n",
       "         '/': 1,\n",
       "         '12': 1,\n",
       "         '15': 1,\n",
       "         '5': 1,\n",
       "         '6': 2,\n",
       "         '8': 1,\n",
       "         '9': 2,\n",
       "         'MIUI': 3,\n",
       "         '。': 4,\n",
       "         '一年': 1,\n",
       "         '主要': 1,\n",
       "         '之中': 1,\n",
       "         '也': 2,\n",
       "         '了': 1,\n",
       "         '以': 1,\n",
       "         '体验版': 1,\n",
       "         '信息': 1,\n",
       "         '全部': 1,\n",
       "         '关于': 1,\n",
       "         '其余': 1,\n",
       "         '内测': 1,\n",
       "         '去年': 1,\n",
       "         '发布': 2,\n",
       "         '可以': 1,\n",
       "         '含': 1,\n",
       "         '外': 1,\n",
       "         '官方消息': 1,\n",
       "         '将': 1,\n",
       "         '小米': 1,\n",
       "         '工作': 1,\n",
       "         '工程师': 1,\n",
       "         '已': 1,\n",
       "         '开发': 1,\n",
       "         '当然': 1,\n",
       "         '影响': 1,\n",
       "         '我们': 1,\n",
       "         '手机': 1,\n",
       "         '日': 1,\n",
       "         '时候': 1,\n",
       "         '是': 2,\n",
       "         '暂不受': 1,\n",
       "         '暂停': 1,\n",
       "         '更新': 1,\n",
       "         '更新换代': 1,\n",
       "         '月': 2,\n",
       "         '有人': 1,\n",
       "         '有余': 1,\n",
       "         '本周': 1,\n",
       "         '机型': 2,\n",
       "         '款': 1,\n",
       "         '此外': 1,\n",
       "         '版': 1,\n",
       "         '猜测': 1,\n",
       "         '用到': 1,\n",
       "         '的': 2,\n",
       "         '研发': 1,\n",
       "         '确保': 1,\n",
       "         '确切': 1,\n",
       "         '稳定版': 1,\n",
       "         '等': 1,\n",
       "         '等待': 1,\n",
       "         '精力': 2,\n",
       "         '系统优化': 1,\n",
       "         '自': 1,\n",
       "         '起': 1,\n",
       "         '距今已有': 1,\n",
       "         '还是': 1,\n",
       "         '这': 1,\n",
       "         '进行': 1,\n",
       "         '除': 1,\n",
       "         '集中': 1,\n",
       "         '（': 2,\n",
       "         '）': 2,\n",
       "         '，': 9})"
      ]
     },
     "execution_count": 65,
     "metadata": {},
     "output_type": "execute_result"
    }
   ],
   "source": [
    "Counter(cut(content.ix[0].content))"
   ]
  },
  {
   "cell_type": "code",
   "execution_count": 74,
   "metadata": {},
   "outputs": [
    {
     "data": {
      "text/plain": [
       "0.009615384615384616"
      ]
     },
     "execution_count": 74,
     "metadata": {},
     "output_type": "execute_result"
    }
   ],
   "source": [
    "term_frequency('小米',0)"
   ]
  },
  {
   "cell_type": "code",
   "execution_count": 102,
   "metadata": {},
   "outputs": [],
   "source": [
    "document_words_counter=[ \n",
    "    Counter(cut(str(content.ix[i].content))) for i in range(len(content))\n",
    "]             "
   ]
  },
  {
   "cell_type": "code",
   "execution_count": 82,
   "metadata": {},
   "outputs": [],
   "source": [
    "import numpy as np"
   ]
  },
  {
   "cell_type": "code",
   "execution_count": 83,
   "metadata": {},
   "outputs": [],
   "source": [
    "def inverse_document_frequency(word):\n",
    "    return np.log(len(content)/ sum(1  for counter in document_words_counter if word in counter))"
   ]
  },
  {
   "cell_type": "code",
   "execution_count": 84,
   "metadata": {},
   "outputs": [
    {
     "data": {
      "text/plain": [
       "6.818265880614236"
      ]
     },
     "execution_count": 84,
     "metadata": {},
     "output_type": "execute_result"
    }
   ],
   "source": [
    "inverse_document_frequency('小米')"
   ]
  },
  {
   "cell_type": "code",
   "execution_count": 92,
   "metadata": {},
   "outputs": [],
   "source": [
    "def Tfidf(word,i):\n",
    "    return term_frequency(word,i)*inverse_document_frequency(word)\n",
    "    "
   ]
  },
  {
   "cell_type": "code",
   "execution_count": 94,
   "metadata": {},
   "outputs": [
    {
     "data": {
      "text/plain": [
       "0.06556024885205997"
      ]
     },
     "execution_count": 94,
     "metadata": {},
     "output_type": "execute_result"
    }
   ],
   "source": [
    "Tfidf('小米',0)"
   ]
  },
  {
   "cell_type": "code",
   "execution_count": 97,
   "metadata": {},
   "outputs": [
    {
     "data": {
      "text/plain": [
       "[('，', 9),\n",
       " ('。', 4),\n",
       " ('MIUI', 3),\n",
       " (' ', 3),\n",
       " ('\\r\\n', 3),\n",
       " ('（', 2),\n",
       " ('6', 2),\n",
       " ('月', 2),\n",
       " ('）', 2),\n",
       " ('机型', 2),\n",
       " ('发布', 2),\n",
       " ('精力', 2),\n",
       " ('也', 2),\n",
       " ('是', 2),\n",
       " ('9', 2)]"
      ]
     },
     "execution_count": 97,
     "metadata": {},
     "output_type": "execute_result"
    }
   ],
   "source": [
    "document_words_counter[0].most_common(15)"
   ]
  },
  {
   "cell_type": "code",
   "execution_count": 95,
   "metadata": {},
   "outputs": [],
   "source": [
    "tfidf_text_0={\n",
    "    word:Tfidf(word,0) for word in document_words_counter[0]\n",
    "}"
   ]
  },
  {
   "cell_type": "code",
   "execution_count": 89,
   "metadata": {},
   "outputs": [
    {
     "data": {
      "text/plain": [
       "{'\\r\\n': 0.012230847734298089,\n",
       " ' ': 0.009981201681442882,\n",
       " '/': 0.007795176252221221,\n",
       " '12': 0.003745972416392774,\n",
       " '15': 0.0035047882026851343,\n",
       " '5': 0.010761909374315032,\n",
       " '6': 0.012119402434774789,\n",
       " '8': 0.003864178771148687,\n",
       " '9': 0.0076148405022923625,\n",
       " 'MIUI': 0.002693363373999317,\n",
       " '。': 0.5753050867224628,\n",
       " '一年': 0.0026460563994724962,\n",
       " '主要': 0.0037559344068149106,\n",
       " '之中': 0.001910991236592723,\n",
       " '也': 0.01213482115163805,\n",
       " '了': 0.008508583008859148,\n",
       " '以': 0.007794692026641623,\n",
       " '体验版': 0.0008432156312538776,\n",
       " '信息': 0.003054011217154302,\n",
       " '全部': 0.002857980208143604,\n",
       " '关于': 0.0029323397214829567,\n",
       " '其余': 0.0018093796719156421,\n",
       " '内测': 0.001000406880918847,\n",
       " '去年': 0.003148958632623421,\n",
       " '发布': 0.006824242828908514,\n",
       " '可以': 0.0038422377750604196,\n",
       " '含': 0.0018810673397281778,\n",
       " '外': 0.0027608306273318737,\n",
       " '官方消息': 0.0010565604047131961,\n",
       " '将': 0.00756534247931419,\n",
       " '小米': 0.0014102390231984319,\n",
       " '工作': 0.004221351827380667,\n",
       " '工程师': 0.001771806318636563,\n",
       " '已': 0.00478558533147334,\n",
       " '开发': 0.00262873599776968,\n",
       " '当然': 0.0020241336880199292,\n",
       " '影响': 0.003378501031161928,\n",
       " '我们': 0.003958998101592852,\n",
       " '手机': 0.002355149667980446,\n",
       " '日': 0.06512642438483034,\n",
       " '时候': 0.0025261504071487505,\n",
       " '是': 0.017124630411035145,\n",
       " '暂不受': 0.0008432156312538776,\n",
       " '暂停': 0.0019011765109635324,\n",
       " '更新': 0.0018200835149208654,\n",
       " '更新换代': 0.0012161019442507735,\n",
       " '月': 0.22193284318653883,\n",
       " '有人': 0.00226857500722363,\n",
       " '有余': 0.0012016172686893215,\n",
       " '本周': 0.0017642939842609836,\n",
       " '机型': 0.0028204780463968637,\n",
       " '款': 0.0018305845897778274,\n",
       " '此外': 0.0030012726042860536,\n",
       " '版': 0.0019161638025294485,\n",
       " '猜测': 0.0015551633623968688,\n",
       " '用到': 0.0012423504473763783,\n",
       " '的': 0.07923938459902771,\n",
       " '研发': 0.002403376390818161,\n",
       " '确保': 0.002584899161285618,\n",
       " '确切': 0.0013301410068058462,\n",
       " '稳定版': 0.0008432156312538776,\n",
       " '等': 0.007288472299507917,\n",
       " '等待': 0.0020334217897817926,\n",
       " '精力': 0.00322619761521395,\n",
       " '系统优化': 0.0008432156312538776,\n",
       " '自': 0.003128649345625734,\n",
       " '起': 0.0031364960088131263,\n",
       " '距今已有': 0.001150343002122687,\n",
       " '还是': 0.0030135989622107917,\n",
       " '这': 0.004873001821879241,\n",
       " '进行': 0.005733204942283092,\n",
       " '除': 0.0022489288791968255,\n",
       " '集中': 0.0025816964043951472,\n",
       " '（': 0.10692967349628284,\n",
       " '）': 0.10710466348981197,\n",
       " '，': 1.63125060475564}"
      ]
     },
     "execution_count": 89,
     "metadata": {},
     "output_type": "execute_result"
    }
   ],
   "source": [
    "tfidf_text_0\n"
   ]
  },
  {
   "cell_type": "code",
   "execution_count": 96,
   "metadata": {},
   "outputs": [
    {
     "data": {
      "text/plain": [
       "[('MIUI', 0.3089447936170634),\n",
       " ('机型', 0.13112049770411993),\n",
       " ('精力', 0.1146310701685195),\n",
       " ('体验版', 0.10964647460850778),\n",
       " ('稳定版', 0.10964647460850778),\n",
       " ('暂不受', 0.10964647460850778),\n",
       " ('系统优化', 0.10964647460850778),\n",
       " ('内测', 0.09241801817362263),\n",
       " ('官方消息', 0.08750623332971888),\n",
       " (' ', 0.08336677469036854),\n",
       " ('距今已有', 0.08037222039962871),\n",
       " ('有余', 0.07694265363098704),\n",
       " ('更新换代', 0.07602620959440701),\n",
       " ('用到', 0.07441992031879964),\n",
       " ('确切', 0.06950813547489587)]"
      ]
     },
     "execution_count": 96,
     "metadata": {},
     "output_type": "execute_result"
    }
   ],
   "source": [
    "sorted(tfidf_text_0.items(), key=lambda x:x[1],reverse=True)[:15]"
   ]
  },
  {
   "cell_type": "code",
   "execution_count": 171,
   "metadata": {},
   "outputs": [],
   "source": [
    "import operator as op"
   ]
  },
  {
   "cell_type": "code",
   "execution_count": 172,
   "metadata": {},
   "outputs": [],
   "source": [
    "from functools import reduce"
   ]
  },
  {
   "cell_type": "code",
   "execution_count": null,
   "metadata": {},
   "outputs": [],
   "source": [
    "all_words_counter=reduce(op.add,document_words_counter)"
   ]
  },
  {
   "cell_type": "code",
   "execution_count": null,
   "metadata": {},
   "outputs": [],
   "source": [
    "len(all_words_counter)"
   ]
  },
  {
   "cell_type": "code",
   "execution_count": null,
   "metadata": {},
   "outputs": [],
   "source": [
    "document_0=[Tfdif(w,0)  for w in all_words_counter]"
   ]
  },
  {
   "cell_type": "code",
   "execution_count": null,
   "metadata": {},
   "outputs": [],
   "source": [
    "document_0"
   ]
  },
  {
   "cell_type": "code",
   "execution_count": null,
   "metadata": {},
   "outputs": [],
   "source": [
    "import wordcloud"
   ]
  },
  {
   "cell_type": "code",
   "execution_count": null,
   "metadata": {},
   "outputs": [],
   "source": []
  },
  {
   "cell_type": "code",
   "execution_count": null,
   "metadata": {},
   "outputs": [],
   "source": []
  },
  {
   "cell_type": "code",
   "execution_count": null,
   "metadata": {},
   "outputs": [],
   "source": []
  },
  {
   "cell_type": "code",
   "execution_count": null,
   "metadata": {},
   "outputs": [],
   "source": []
  },
  {
   "cell_type": "code",
   "execution_count": null,
   "metadata": {},
   "outputs": [],
   "source": []
  },
  {
   "cell_type": "code",
   "execution_count": null,
   "metadata": {},
   "outputs": [],
   "source": []
  },
  {
   "cell_type": "code",
   "execution_count": null,
   "metadata": {},
   "outputs": [],
   "source": []
  },
  {
   "cell_type": "code",
   "execution_count": null,
   "metadata": {},
   "outputs": [],
   "source": []
  },
  {
   "cell_type": "code",
   "execution_count": null,
   "metadata": {},
   "outputs": [],
   "source": []
  },
  {
   "cell_type": "code",
   "execution_count": null,
   "metadata": {},
   "outputs": [],
   "source": []
  },
  {
   "cell_type": "code",
   "execution_count": null,
   "metadata": {},
   "outputs": [],
   "source": []
  },
  {
   "cell_type": "code",
   "execution_count": null,
   "metadata": {},
   "outputs": [],
   "source": []
  },
  {
   "cell_type": "code",
   "execution_count": null,
   "metadata": {},
   "outputs": [],
   "source": []
  },
  {
   "cell_type": "code",
   "execution_count": null,
   "metadata": {},
   "outputs": [],
   "source": []
  },
  {
   "cell_type": "code",
   "execution_count": null,
   "metadata": {},
   "outputs": [],
   "source": []
  },
  {
   "cell_type": "code",
   "execution_count": null,
   "metadata": {},
   "outputs": [],
   "source": []
  },
  {
   "cell_type": "code",
   "execution_count": null,
   "metadata": {},
   "outputs": [],
   "source": []
  },
  {
   "cell_type": "code",
   "execution_count": null,
   "metadata": {},
   "outputs": [],
   "source": []
  },
  {
   "cell_type": "code",
   "execution_count": null,
   "metadata": {},
   "outputs": [],
   "source": []
  }
 ],
 "metadata": {
  "kernelspec": {
   "display_name": "Python 3",
   "language": "python",
   "name": "python3"
  },
  "language_info": {
   "codemirror_mode": {
    "name": "ipython",
    "version": 3
   },
   "file_extension": ".py",
   "mimetype": "text/x-python",
   "name": "python",
   "nbconvert_exporter": "python",
   "pygments_lexer": "ipython3",
   "version": "3.6.4"
  }
 },
 "nbformat": 4,
 "nbformat_minor": 2
}
