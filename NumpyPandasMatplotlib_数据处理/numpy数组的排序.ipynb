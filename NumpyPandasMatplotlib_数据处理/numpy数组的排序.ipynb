{
 "cells": [
  {
   "cell_type": "code",
   "execution_count": 5,
   "metadata": {},
   "outputs": [],
   "source": [
    "import numpy as np"
   ]
  },
  {
   "cell_type": "code",
   "execution_count": 6,
   "metadata": {},
   "outputs": [
    {
     "data": {
      "text/plain": [
       "array([5, 4, 3, 2, 1])"
      ]
     },
     "execution_count": 6,
     "metadata": {},
     "output_type": "execute_result"
    }
   ],
   "source": [
    "x=np.array([1,2,3,4,5])\n",
    "np.random.shuffle(x)\n",
    "x"
   ]
  },
  {
   "cell_type": "code",
   "execution_count": 7,
   "metadata": {},
   "outputs": [
    {
     "data": {
      "text/plain": [
       "False"
      ]
     },
     "execution_count": 7,
     "metadata": {},
     "output_type": "execute_result"
    }
   ],
   "source": [
    "np.any(x[:-1]<x[1:])"
   ]
  },
  {
   "cell_type": "code",
   "execution_count": 8,
   "metadata": {},
   "outputs": [],
   "source": [
    "import numpy as np"
   ]
  },
  {
   "cell_type": "code",
   "execution_count": 9,
   "metadata": {},
   "outputs": [],
   "source": [
    "def selection_sort(x):\n",
    "    for i in range(len(x)):\n",
    "        swap=i+np.argmin(x[i:])\n",
    "        (x[i],x[swap])=(x[swap],x[i])\n",
    "    return x"
   ]
  },
  {
   "cell_type": "code",
   "execution_count": 10,
   "metadata": {},
   "outputs": [
    {
     "data": {
      "text/plain": [
       "array([1, 2, 3, 4, 5])"
      ]
     },
     "execution_count": 10,
     "metadata": {},
     "output_type": "execute_result"
    }
   ],
   "source": [
    "selection_sort(np.array([2,1,4,3,5]))\n"
   ]
  },
  {
   "cell_type": "code",
   "execution_count": 11,
   "metadata": {},
   "outputs": [],
   "source": [
    "x=np.array([2,1,4,3,5])"
   ]
  },
  {
   "cell_type": "code",
   "execution_count": 12,
   "metadata": {},
   "outputs": [
    {
     "data": {
      "text/plain": [
       "array([2, 1, 4, 3, 5])"
      ]
     },
     "execution_count": 12,
     "metadata": {},
     "output_type": "execute_result"
    }
   ],
   "source": [
    "np.sort(x)#原始数组不改变，仅返回排好序的数组\n",
    "x"
   ]
  },
  {
   "cell_type": "code",
   "execution_count": 13,
   "metadata": {},
   "outputs": [
    {
     "data": {
      "text/plain": [
       "array([1, 2, 3, 4, 5])"
      ]
     },
     "execution_count": 13,
     "metadata": {},
     "output_type": "execute_result"
    }
   ],
   "source": [
    "x.sort()#注意这二者的区别，此处返回的是改变了的原始数组。\n",
    "x"
   ]
  },
  {
   "cell_type": "code",
   "execution_count": 14,
   "metadata": {},
   "outputs": [],
   "source": [
    "x=np.array([2,1,4,3,5])"
   ]
  },
  {
   "cell_type": "code",
   "execution_count": 15,
   "metadata": {},
   "outputs": [
    {
     "data": {
      "text/plain": [
       "(array([1, 0, 3, 2, 4], dtype=int64), array([1, 2, 3, 4, 5]))"
      ]
     },
     "execution_count": 15,
     "metadata": {},
     "output_type": "execute_result"
    }
   ],
   "source": [
    "i=np.argsort(x)\n",
    "i,x[i]"
   ]
  },
  {
   "cell_type": "code",
   "execution_count": 16,
   "metadata": {},
   "outputs": [],
   "source": [
    "rand=np.random.RandomState(42)"
   ]
  },
  {
   "cell_type": "code",
   "execution_count": 17,
   "metadata": {},
   "outputs": [
    {
     "name": "stdout",
     "output_type": "stream",
     "text": [
      "[[6 3 7 4 6 9]\n",
      " [2 6 7 4 3 7]\n",
      " [7 2 5 4 1 7]\n",
      " [5 1 4 0 9 5]]\n"
     ]
    }
   ],
   "source": [
    "x=rand.randint(0,10,(4,6))\n",
    "print(x)"
   ]
  },
  {
   "cell_type": "code",
   "execution_count": 18,
   "metadata": {},
   "outputs": [
    {
     "data": {
      "text/plain": [
       "array([[3, 4, 6, 6, 7, 9],\n",
       "       [2, 3, 4, 6, 7, 7],\n",
       "       [1, 2, 4, 5, 7, 7],\n",
       "       [0, 1, 4, 5, 5, 9]])"
      ]
     },
     "execution_count": 18,
     "metadata": {},
     "output_type": "execute_result"
    }
   ],
   "source": [
    "x.sort(axis=1)\n",
    "x"
   ]
  },
  {
   "cell_type": "code",
   "execution_count": 19,
   "metadata": {},
   "outputs": [
    {
     "data": {
      "text/plain": [
       "array([[0, 1, 4, 5, 5, 7],\n",
       "       [1, 2, 4, 5, 7, 7],\n",
       "       [2, 3, 4, 6, 7, 9],\n",
       "       [3, 4, 6, 6, 7, 9]])"
      ]
     },
     "execution_count": 19,
     "metadata": {},
     "output_type": "execute_result"
    }
   ],
   "source": [
    "x.sort(axis=0)\n",
    "x"
   ]
  },
  {
   "cell_type": "code",
   "execution_count": 29,
   "metadata": {},
   "outputs": [],
   "source": [
    "y=rand.randint(0,10,(4,6))"
   ]
  },
  {
   "cell_type": "code",
   "execution_count": 30,
   "metadata": {},
   "outputs": [
    {
     "data": {
      "text/plain": [
       "array([[6, 7, 2, 0, 3, 1],\n",
       "       [7, 3, 1, 5, 5, 9],\n",
       "       [3, 5, 1, 9, 1, 9],\n",
       "       [3, 7, 6, 8, 7, 4]])"
      ]
     },
     "execution_count": 30,
     "metadata": {},
     "output_type": "execute_result"
    }
   ],
   "source": [
    "y"
   ]
  },
  {
   "cell_type": "code",
   "execution_count": 31,
   "metadata": {},
   "outputs": [
    {
     "data": {
      "text/plain": [
       "array([[3, 3, 1, 0, 1, 1],\n",
       "       [3, 5, 1, 5, 3, 4],\n",
       "       [6, 7, 2, 8, 5, 9],\n",
       "       [7, 7, 6, 9, 7, 9]])"
      ]
     },
     "execution_count": 31,
     "metadata": {},
     "output_type": "execute_result"
    }
   ],
   "source": [
    "np.sort(y,axis=0)"
   ]
  },
  {
   "cell_type": "markdown",
   "metadata": {},
   "source": [
    "x与y的区别在于，x使用x.sort将自己修改了。而y使用了np.sort(x)仅返回排好序的数组"
   ]
  },
  {
   "cell_type": "code",
   "execution_count": 22,
   "metadata": {},
   "outputs": [
    {
     "data": {
      "text/plain": [
       "array([[0, 1, 4, 5, 5, 7],\n",
       "       [1, 2, 4, 5, 7, 7],\n",
       "       [2, 3, 4, 6, 7, 9],\n",
       "       [3, 4, 6, 6, 7, 9]])"
      ]
     },
     "execution_count": 22,
     "metadata": {},
     "output_type": "execute_result"
    }
   ],
   "source": [
    "np.partition(x,2,axis=0)"
   ]
  },
  {
   "cell_type": "code",
   "execution_count": 36,
   "metadata": {},
   "outputs": [
    {
     "data": {
      "text/plain": [
       "array([1, 2, 3, 7, 6, 5, 4])"
      ]
     },
     "execution_count": 36,
     "metadata": {},
     "output_type": "execute_result"
    }
   ],
   "source": [
    "x=np.array([7,2,3,1,6,5,4])\n",
    "np.partition(x,2,axis=0)#为何上一个axis=0是按照列来排序，而此处是按照行来排序"
   ]
  },
  {
   "cell_type": "code",
   "execution_count": 55,
   "metadata": {},
   "outputs": [],
   "source": [
    "y=np.random.randint(0,10,(12,10))"
   ]
  },
  {
   "cell_type": "code",
   "execution_count": 56,
   "metadata": {},
   "outputs": [
    {
     "data": {
      "text/plain": [
       "array([[9, 1, 4, 0, 1, 9, 7, 6, 9, 8],\n",
       "       [1, 7, 0, 5, 0, 1, 6, 2, 5, 6],\n",
       "       [6, 8, 5, 6, 0, 6, 7, 1, 8, 6],\n",
       "       [2, 4, 4, 0, 8, 6, 0, 2, 1, 8],\n",
       "       [4, 7, 1, 4, 1, 3, 9, 2, 8, 6],\n",
       "       [6, 5, 6, 3, 1, 4, 8, 3, 5, 7],\n",
       "       [3, 2, 1, 9, 3, 3, 7, 6, 8, 9],\n",
       "       [2, 4, 4, 2, 7, 7, 2, 9, 5, 4],\n",
       "       [9, 0, 7, 4, 7, 8, 6, 0, 6, 7],\n",
       "       [0, 6, 0, 9, 2, 3, 8, 6, 2, 7],\n",
       "       [8, 9, 1, 7, 7, 6, 1, 3, 4, 1],\n",
       "       [0, 1, 4, 1, 8, 9, 2, 4, 3, 4]])"
      ]
     },
     "execution_count": 56,
     "metadata": {},
     "output_type": "execute_result"
    }
   ],
   "source": [
    "y"
   ]
  },
  {
   "cell_type": "code",
   "execution_count": 58,
   "metadata": {},
   "outputs": [
    {
     "data": {
      "text/plain": [
       "array([[0, 0, 0, 0, 0, 1, 0, 0, 1, 1],\n",
       "       [0, 1, 0, 0, 0, 3, 1, 1, 2, 4],\n",
       "       [1, 1, 1, 1, 1, 3, 2, 2, 3, 4],\n",
       "       [2, 4, 4, 5, 8, 6, 7, 2, 9, 8],\n",
       "       [4, 7, 5, 4, 1, 9, 9, 2, 8, 6],\n",
       "       [6, 5, 6, 3, 1, 4, 8, 3, 5, 7],\n",
       "       [3, 2, 1, 9, 3, 6, 7, 6, 8, 9],\n",
       "       [2, 4, 4, 2, 7, 7, 7, 9, 5, 6],\n",
       "       [9, 7, 7, 4, 7, 8, 6, 6, 6, 7],\n",
       "       [9, 6, 4, 9, 2, 3, 8, 6, 5, 7],\n",
       "       [8, 9, 1, 7, 7, 6, 6, 3, 4, 8],\n",
       "       [6, 8, 4, 6, 8, 9, 2, 4, 8, 6]])"
      ]
     },
     "execution_count": 58,
     "metadata": {},
     "output_type": "execute_result"
    }
   ],
   "source": [
    "np.partition(y,2,axis=0)"
   ]
  },
  {
   "cell_type": "code",
   "execution_count": 61,
   "metadata": {},
   "outputs": [
    {
     "data": {
      "text/plain": [
       "array([[1, 4, 1, 0, 6, 7, 8, 9, 9, 9],\n",
       "       [1, 0, 0, 1, 2, 5, 5, 6, 6, 7],\n",
       "       [6, 0, 5, 1, 6, 6, 6, 7, 8, 8],\n",
       "       [0, 0, 1, 2, 2, 4, 4, 6, 8, 8],\n",
       "       [3, 1, 1, 2, 4, 4, 6, 9, 8, 7],\n",
       "       [3, 3, 1, 4, 5, 5, 6, 8, 6, 7],\n",
       "       [2, 3, 1, 3, 3, 6, 7, 8, 9, 9],\n",
       "       [2, 2, 2, 4, 4, 4, 5, 7, 7, 9],\n",
       "       [4, 0, 0, 6, 6, 7, 7, 8, 7, 9],\n",
       "       [2, 0, 0, 2, 3, 6, 6, 7, 9, 8],\n",
       "       [1, 1, 1, 3, 4, 6, 7, 9, 7, 8],\n",
       "       [1, 2, 0, 1, 3, 4, 4, 9, 4, 8]])"
      ]
     },
     "execution_count": 61,
     "metadata": {},
     "output_type": "execute_result"
    }
   ],
   "source": [
    "np.partition(y,5,axis=1)"
   ]
  }
 ],
 "metadata": {
  "kernelspec": {
   "display_name": "Python 3",
   "language": "python",
   "name": "python3"
  },
  "language_info": {
   "codemirror_mode": {
    "name": "ipython",
    "version": 3
   },
   "file_extension": ".py",
   "mimetype": "text/x-python",
   "name": "python",
   "nbconvert_exporter": "python",
   "pygments_lexer": "ipython3",
   "version": "3.6.4"
  }
 },
 "nbformat": 4,
 "nbformat_minor": 2
}
