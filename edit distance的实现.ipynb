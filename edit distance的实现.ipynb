{
 "cells": [
  {
   "cell_type": "markdown",
   "metadata": {},
   "source": [
    "# edit distance的实现"
   ]
  },
  {
   "cell_type": "markdown",
   "metadata": {},
   "source": [
    "Given two strings str1 and str2 and below operations that can performed on str1. \n",
    "Find minimum number of edits (operations) required to convert ‘str1’ into ‘str2’.\n",
    "\n",
    "    Insert\n",
    "    Remove\n",
    "    Replace"
   ]
  },
  {
   "cell_type": "code",
   "execution_count": 6,
   "metadata": {},
   "outputs": [],
   "source": [
    "#m是str1的长度，n是str2的长度。\n",
    "def editDistance(str1,str2,m,n):\n",
    "    if m==0: \n",
    "        return n\n",
    "       \n",
    "    if n==0:  \n",
    "        return m\n",
    "    \n",
    "    if str1[m-1]==str2[n-1]: \n",
    "        return editDistance(str1,str2,m-1,n-1)\n",
    "    \n",
    "    return 1+min(editDistance(str1,str2,m,n-1),           #insert\n",
    "                editDistance(str1,str2,m-1,n),            #delete\n",
    "                editDistance(str1,str2,m-1,n-1))          #replace\n",
    "    \n",
    "    "
   ]
  },
  {
   "cell_type": "code",
   "execution_count": 18,
   "metadata": {},
   "outputs": [
    {
     "data": {
      "text/plain": [
       "4"
      ]
     },
     "execution_count": 18,
     "metadata": {},
     "output_type": "execute_result"
    }
   ],
   "source": [
    "str1='hobby'\n",
    "str2='holiday'\n",
    "editDistance(str1,str2,5,7)"
   ]
  },
  {
   "cell_type": "code",
   "execution_count": 22,
   "metadata": {},
   "outputs": [
    {
     "data": {
      "text/plain": [
       "4"
      ]
     },
     "execution_count": 22,
     "metadata": {},
     "output_type": "execute_result"
    }
   ],
   "source": [
    "str3=str1[::-1]\n",
    "str4=str2[::-1]\n",
    "editDistance(str3,str4,5,7)"
   ]
  }
 ],
 "metadata": {
  "kernelspec": {
   "display_name": "Python 3",
   "language": "python",
   "name": "python3"
  },
  "language_info": {
   "codemirror_mode": {
    "name": "ipython",
    "version": 3
   },
   "file_extension": ".py",
   "mimetype": "text/x-python",
   "name": "python",
   "nbconvert_exporter": "python",
   "pygments_lexer": "ipython3",
   "version": "3.6.4"
  }
 },
 "nbformat": 4,
 "nbformat_minor": 2
}
