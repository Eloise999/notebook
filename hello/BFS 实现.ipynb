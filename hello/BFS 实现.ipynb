{
 "cells": [
  {
   "cell_type": "code",
   "execution_count": 3,
   "metadata": {},
   "outputs": [],
   "source": [
    "graph={\n",
    "    'a':['b','c','d'],\n",
    "    'b':['c','d','e'],\n",
    "    'c':['f','g','a'],\n",
    "    'd':['f','g'],\n",
    "    'e':['b'],\n",
    "    'f':['d'],\n",
    "    'g':['a']\n",
    "} "
   ]
  },
  {
   "cell_type": "code",
   "execution_count": 19,
   "metadata": {},
   "outputs": [],
   "source": [
    "def BFS(graph,start):\n",
    "    visited=[]\n",
    "    queue=[start]\n",
    "    while queue:\n",
    "        element=queue.pop(0)\n",
    "        if element not in visited:\n",
    "            visited.append(element)\n",
    "            queue.extend(graph[element])\n",
    "            \n",
    "    return visited"
   ]
  },
  {
   "cell_type": "code",
   "execution_count": 22,
   "metadata": {},
   "outputs": [
    {
     "data": {
      "text/plain": [
       "['e', 'b', 'c', 'd', 'f', 'g', 'a']"
      ]
     },
     "execution_count": 22,
     "metadata": {},
     "output_type": "execute_result"
    }
   ],
   "source": [
    "BFS(graph,'e')"
   ]
  }
 ],
 "metadata": {
  "kernelspec": {
   "display_name": "Python 3",
   "language": "python",
   "name": "python3"
  },
  "language_info": {
   "codemirror_mode": {
    "name": "ipython",
    "version": 3
   },
   "file_extension": ".py",
   "mimetype": "text/x-python",
   "name": "python",
   "nbconvert_exporter": "python",
   "pygments_lexer": "ipython3",
   "version": "3.6.4"
  }
 },
 "nbformat": 4,
 "nbformat_minor": 2
}
